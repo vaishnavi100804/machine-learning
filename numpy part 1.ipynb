{
 "cells": [
  {
   "cell_type": "code",
   "execution_count": 1,
   "id": "e6733356-fcff-4a5e-b624-088d3a1a354f",
   "metadata": {},
   "outputs": [
    {
     "data": {
      "text/plain": [
       "'2.0.2'"
      ]
     },
     "execution_count": 1,
     "metadata": {},
     "output_type": "execute_result"
    }
   ],
   "source": [
    "import numpy as np\n",
    "np.__version__"
   ]
  },
  {
   "cell_type": "code",
   "execution_count": 3,
   "id": "6345eae8-b0b6-4764-92e8-fd78b4b059b4",
   "metadata": {},
   "outputs": [
    {
     "data": {
      "text/plain": [
       "array([1, 2, 3])"
      ]
     },
     "execution_count": 3,
     "metadata": {},
     "output_type": "execute_result"
    }
   ],
   "source": [
    "array1=np.array([1,2,3])\n",
    "array1"
   ]
  },
  {
   "cell_type": "code",
   "execution_count": 5,
   "id": "a2c357b5-8947-4e4a-955a-ffc186613993",
   "metadata": {},
   "outputs": [
    {
     "data": {
      "text/plain": [
       "numpy.ndarray"
      ]
     },
     "execution_count": 5,
     "metadata": {},
     "output_type": "execute_result"
    }
   ],
   "source": [
    "type(array1)"
   ]
  },
  {
   "cell_type": "code",
   "execution_count": 7,
   "id": "9c37d68d-2aff-4326-bbf5-cd8f86029de6",
   "metadata": {},
   "outputs": [
    {
     "data": {
      "text/plain": [
       "array([[1, 2],\n",
       "       [3, 4]])"
      ]
     },
     "execution_count": 7,
     "metadata": {},
     "output_type": "execute_result"
    }
   ],
   "source": [
    "array2=np.array([[1,2],\n",
    "                 [3,4]])\n",
    "array2"
   ]
  },
  {
   "cell_type": "code",
   "execution_count": 9,
   "id": "226974f2-b84d-461b-9b19-2ef03003deed",
   "metadata": {},
   "outputs": [
    {
     "data": {
      "text/plain": [
       "array([[[1, 2],\n",
       "        [3, 4]],\n",
       "\n",
       "       [[5, 6],\n",
       "        [7, 8]]])"
      ]
     },
     "execution_count": 9,
     "metadata": {},
     "output_type": "execute_result"
    }
   ],
   "source": [
    "array3d=np.array([[\n",
    "                    [1,2],\n",
    "                    [3,4]\n",
    "                  ],\n",
    "                  [\n",
    "                    [5,6],\n",
    "                    [7,8]\n",
    "                  ]\n",
    "                 ])\n",
    "array3d"
   ]
  },
  {
   "cell_type": "code",
   "execution_count": 11,
   "id": "5434941d-4ec6-4b1e-b1d9-70478c869706",
   "metadata": {},
   "outputs": [
    {
     "data": {
      "text/plain": [
       "array([[[ 1,  2,  3],\n",
       "        [ 4,  5,  6],\n",
       "        [ 7,  8,  9]],\n",
       "\n",
       "       [[10, 11, 12],\n",
       "        [13, 14, 15],\n",
       "        [16, 17, 18]]])"
      ]
     },
     "execution_count": 11,
     "metadata": {},
     "output_type": "execute_result"
    }
   ],
   "source": [
    "array3ex=np.array([[[1,2,3],\n",
    "                    [4,5,6],\n",
    "                    [7,8,9]],\n",
    "                   [[10,11,12],\n",
    "                    [13,14,15],\n",
    "                    [16,17,18]]\n",
    "                  ])\n",
    "array3ex"
   ]
  },
  {
   "cell_type": "code",
   "execution_count": 13,
   "id": "bfaf1db3-998d-4c2c-ab2f-64fd45552b6b",
   "metadata": {},
   "outputs": [
    {
     "data": {
      "text/plain": [
       "array([[[[ 1,  2],\n",
       "         [ 3,  4],\n",
       "         [ 5,  6]],\n",
       "\n",
       "        [[ 7,  8],\n",
       "         [ 9, 10],\n",
       "         [11, 12]],\n",
       "\n",
       "        [[13, 14],\n",
       "         [15, 16],\n",
       "         [17, 18]],\n",
       "\n",
       "        [[19, 20],\n",
       "         [21, 22],\n",
       "         [23, 24]],\n",
       "\n",
       "        [[25, 26],\n",
       "         [27, 28],\n",
       "         [29, 30]],\n",
       "\n",
       "        [[31, 32],\n",
       "         [33, 34],\n",
       "         [35, 36]]]])"
      ]
     },
     "execution_count": 13,
     "metadata": {},
     "output_type": "execute_result"
    }
   ],
   "source": [
    "array4d=np.array([\n",
    "                    [\n",
    "                        [\n",
    "                            [1,2],\n",
    "                            [3,4],\n",
    "                            [5,6]\n",
    "                        ],\n",
    "                        [\n",
    "                            [7,8],\n",
    "                            [9,10],\n",
    "                            [11,12]\n",
    "                        ],\n",
    "                        [\n",
    "                            [13,14],\n",
    "                            [15,16],\n",
    "                            [17,18]\n",
    "                        ],\n",
    "                        [\n",
    "                            [19,20],\n",
    "                            [21,22],\n",
    "                            [23,24]\n",
    "                        ],\n",
    "                        [\n",
    "                            [25,26],\n",
    "                            [27,28],\n",
    "                            [29,30]\n",
    "                        ],\n",
    "                        [\n",
    "                            [31,32],\n",
    "                            [33,34],\n",
    "                            [35,36]\n",
    "                        ]\n",
    "                    ]\n",
    "])\n",
    "array4d"
   ]
  },
  {
   "cell_type": "code",
   "execution_count": 15,
   "id": "b283a2b3-cc90-4743-8979-523bf50735a0",
   "metadata": {},
   "outputs": [
    {
     "data": {
      "text/plain": [
       "array([12, 13, 14])"
      ]
     },
     "execution_count": 15,
     "metadata": {},
     "output_type": "execute_result"
    }
   ],
   "source": [
    "array5ex=np.array((12,13,14))\n",
    "array5ex"
   ]
  },
  {
   "cell_type": "code",
   "execution_count": 17,
   "id": "f248b527-4580-47ef-8c8d-3998dc8849b6",
   "metadata": {},
   "outputs": [
    {
     "name": "stdout",
     "output_type": "stream",
     "text": [
      "1\n"
     ]
    }
   ],
   "source": [
    "print(array1.ndim)"
   ]
  },
  {
   "cell_type": "code",
   "execution_count": 19,
   "id": "01699589-fc2f-476b-a8fb-7fc0058b4db0",
   "metadata": {},
   "outputs": [
    {
     "name": "stdout",
     "output_type": "stream",
     "text": [
      "2\n"
     ]
    }
   ],
   "source": [
    "print(array2.ndim)"
   ]
  },
  {
   "cell_type": "code",
   "execution_count": 21,
   "id": "0b964dc6-79d2-4cbe-8af9-314808a94b52",
   "metadata": {},
   "outputs": [
    {
     "name": "stdout",
     "output_type": "stream",
     "text": [
      "3\n"
     ]
    }
   ],
   "source": [
    "print(array3d.ndim)"
   ]
  },
  {
   "cell_type": "code",
   "execution_count": 23,
   "id": "aceabfb7-5a31-4e86-8484-5f75b1e2b20c",
   "metadata": {},
   "outputs": [
    {
     "name": "stdout",
     "output_type": "stream",
     "text": [
      "3\n"
     ]
    }
   ],
   "source": [
    "print(array3ex.ndim)"
   ]
  },
  {
   "cell_type": "code",
   "execution_count": 25,
   "id": "47469849-c8df-4aa4-bda5-451f5f1d95c6",
   "metadata": {},
   "outputs": [
    {
     "name": "stdout",
     "output_type": "stream",
     "text": [
      "4\n"
     ]
    }
   ],
   "source": [
    "print(array4d.ndim)"
   ]
  },
  {
   "cell_type": "code",
   "execution_count": 27,
   "id": "5acb007c-11d1-43ec-98c8-575ce710c764",
   "metadata": {},
   "outputs": [
    {
     "name": "stdout",
     "output_type": "stream",
     "text": [
      "1\n"
     ]
    }
   ],
   "source": [
    "print(array5ex.ndim)"
   ]
  },
  {
   "cell_type": "code",
   "execution_count": 31,
   "id": "5166ab03-ffc9-475f-ad0b-49ab116584ef",
   "metadata": {},
   "outputs": [
    {
     "data": {
      "text/plain": [
       "array([[1, 2, 3, 4, 5]])"
      ]
     },
     "execution_count": 31,
     "metadata": {},
     "output_type": "execute_result"
    }
   ],
   "source": [
    "array6=np.array([1,2,3,4,5], ndmin=2)\n",
    "array6"
   ]
  },
  {
   "cell_type": "code",
   "execution_count": 33,
   "id": "41c2ca86-d5e0-4bca-9d0c-156a4fd62243",
   "metadata": {},
   "outputs": [
    {
     "name": "stdout",
     "output_type": "stream",
     "text": [
      "2\n"
     ]
    }
   ],
   "source": [
    "print(array6.ndim)"
   ]
  },
  {
   "cell_type": "code",
   "execution_count": 35,
   "id": "87c87c30-696d-46a4-ae65-939f64b04689",
   "metadata": {},
   "outputs": [
    {
     "data": {
      "text/plain": [
       "(1, 5)"
      ]
     },
     "execution_count": 35,
     "metadata": {},
     "output_type": "execute_result"
    }
   ],
   "source": [
    "array6.shape"
   ]
  },
  {
   "cell_type": "code",
   "execution_count": 37,
   "id": "46d3533c-ea6f-4354-bb23-099f83b97e66",
   "metadata": {},
   "outputs": [
    {
     "data": {
      "text/plain": [
       "(3,)"
      ]
     },
     "execution_count": 37,
     "metadata": {},
     "output_type": "execute_result"
    }
   ],
   "source": [
    "array1.shape"
   ]
  },
  {
   "cell_type": "code",
   "execution_count": 39,
   "id": "14919745-1029-42d8-af95-9fbc394b860f",
   "metadata": {},
   "outputs": [
    {
     "data": {
      "text/plain": [
       "(2, 2)"
      ]
     },
     "execution_count": 39,
     "metadata": {},
     "output_type": "execute_result"
    }
   ],
   "source": [
    "array2.shape"
   ]
  },
  {
   "cell_type": "code",
   "execution_count": 41,
   "id": "52a3a0ab-89b5-4995-92db-362996f8dc14",
   "metadata": {},
   "outputs": [
    {
     "data": {
      "text/plain": [
       "(2, 2, 2)"
      ]
     },
     "execution_count": 41,
     "metadata": {},
     "output_type": "execute_result"
    }
   ],
   "source": [
    "array3d.shape"
   ]
  },
  {
   "cell_type": "code",
   "execution_count": 43,
   "id": "af408104-0911-4073-8ec6-f7dcd0006011",
   "metadata": {},
   "outputs": [
    {
     "data": {
      "text/plain": [
       "(2, 3, 3)"
      ]
     },
     "execution_count": 43,
     "metadata": {},
     "output_type": "execute_result"
    }
   ],
   "source": [
    "array3ex.shape"
   ]
  },
  {
   "cell_type": "code",
   "execution_count": 45,
   "id": "e10221b7-3025-4c03-b881-948664dafd8b",
   "metadata": {},
   "outputs": [
    {
     "data": {
      "text/plain": [
       "(1, 6, 3, 2)"
      ]
     },
     "execution_count": 45,
     "metadata": {},
     "output_type": "execute_result"
    }
   ],
   "source": [
    "array4d.shape"
   ]
  },
  {
   "cell_type": "code",
   "execution_count": 47,
   "id": "5b9268cb-877d-4e3f-a0f6-08ee6feb1049",
   "metadata": {},
   "outputs": [
    {
     "data": {
      "text/plain": [
       "(3,)"
      ]
     },
     "execution_count": 47,
     "metadata": {},
     "output_type": "execute_result"
    }
   ],
   "source": [
    "array5ex.shape"
   ]
  },
  {
   "cell_type": "code",
   "execution_count": 49,
   "id": "4a0fe30c-4761-44cf-a6fc-c80598598539",
   "metadata": {},
   "outputs": [
    {
     "data": {
      "text/plain": [
       "array([[1, 2],\n",
       "       [3, 4]])"
      ]
     },
     "execution_count": 49,
     "metadata": {},
     "output_type": "execute_result"
    }
   ],
   "source": [
    "array2"
   ]
  },
  {
   "cell_type": "code",
   "execution_count": 51,
   "id": "d8ddd918-2153-4883-b432-1a4d5c6aae8c",
   "metadata": {},
   "outputs": [
    {
     "data": {
      "text/plain": [
       "np.int64(2)"
      ]
     },
     "execution_count": 51,
     "metadata": {},
     "output_type": "execute_result"
    }
   ],
   "source": [
    "array2[0][1]"
   ]
  },
  {
   "cell_type": "code",
   "execution_count": 53,
   "id": "ade16d4e-ebc1-4023-8548-0bd6c445e7d3",
   "metadata": {},
   "outputs": [
    {
     "data": {
      "text/plain": [
       "array([[1. , 2. ],\n",
       "       [3.3, 4. ]])"
      ]
     },
     "execution_count": 53,
     "metadata": {},
     "output_type": "execute_result"
    }
   ],
   "source": [
    "array7=np.array([[1,2],[3.3,4]])\n",
    "array7"
   ]
  },
  {
   "cell_type": "code",
   "execution_count": null,
   "id": "9858ac13-f434-4b9a-a723-7b191fe009ef",
   "metadata": {},
   "outputs": [],
   "source": []
  }
 ],
 "metadata": {
  "kernelspec": {
   "display_name": "Python 3 (ipykernel)",
   "language": "python",
   "name": "python3"
  },
  "language_info": {
   "codemirror_mode": {
    "name": "ipython",
    "version": 3
   },
   "file_extension": ".py",
   "mimetype": "text/x-python",
   "name": "python",
   "nbconvert_exporter": "python",
   "pygments_lexer": "ipython3",
   "version": "3.12.7"
  }
 },
 "nbformat": 4,
 "nbformat_minor": 5
}
